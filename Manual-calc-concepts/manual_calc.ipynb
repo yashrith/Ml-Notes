{
  "nbformat": 4,
  "nbformat_minor": 0,
  "metadata": {
    "colab": {
      "provenance": [],
      "authorship_tag": "ABX9TyM5XBWoE85qY0cqrJdqd9J2",
      "include_colab_link": true
    },
    "kernelspec": {
      "name": "python3",
      "display_name": "Python 3"
    },
    "language_info": {
      "name": "python"
    }
  },
  "cells": [
    {
      "cell_type": "markdown",
      "metadata": {
        "id": "view-in-github",
        "colab_type": "text"
      },
      "source": [
        "<a href=\"https://colab.research.google.com/github/yashrith/Ml-Notes/blob/master/Manual-calc-concepts/manual_calc.ipynb\" target=\"_parent\"><img src=\"https://colab.research.google.com/assets/colab-badge.svg\" alt=\"Open In Colab\"/></a>"
      ]
    },
    {
      "cell_type": "markdown",
      "source": [
        "# Manual Calculation of a perceptron"
      ],
      "metadata": {
        "id": "FcgghmCGh_hD"
      }
    },
    {
      "cell_type": "markdown",
      "source": [
        "### x = 3 inputs[1,2,3]\n",
        "### y= output of 2 neurons\n",
        "### w = weight matrix between input and the first hidden layer\n",
        "### v= weight matrix between the first hidden layer and output\n",
        "### hidden layer has 4 neurons\n",
        "### implement a mlp with one hidden layer\n",
        "### how many hyper parameter we have in this network"
      ],
      "metadata": {
        "id": "9UdVXzsYjF9N"
      }
    },
    {
      "cell_type": "code",
      "source": [
        "import numpy as np"
      ],
      "metadata": {
        "id": "qUoCUEowiGvn"
      },
      "execution_count": 1,
      "outputs": []
    },
    {
      "cell_type": "code",
      "source": [
        "# input neurons\n",
        "X=np.array([1,2,3])"
      ],
      "metadata": {
        "id": "w-f7y6jJiI86"
      },
      "execution_count": 12,
      "outputs": []
    },
    {
      "cell_type": "code",
      "source": [
        "# these are the weights between input and hidden layer\n",
        "W = np.random.randn(3, 4)\n",
        "W"
      ],
      "metadata": {
        "colab": {
          "base_uri": "https://localhost:8080/"
        },
        "id": "QLyjjcGiibOn",
        "outputId": "516dd27d-613b-40d5-b745-4a2213f566a3"
      },
      "execution_count": 4,
      "outputs": [
        {
          "output_type": "execute_result",
          "data": {
            "text/plain": [
              "array([[-1.05060095, -0.16106238, -0.87451567,  0.0241128 ],\n",
              "       [-0.04756618,  0.11846952, -0.28034578,  1.24597794],\n",
              "       [-0.51824724, -1.28804136, -0.4542416 , -2.03698035]])"
            ]
          },
          "metadata": {},
          "execution_count": 4
        }
      ]
    },
    {
      "cell_type": "code",
      "source": [
        "# these are the weights between hidden layer and output\n",
        "V=np.random.randn(4,2)\n",
        "V"
      ],
      "metadata": {
        "colab": {
          "base_uri": "https://localhost:8080/"
        },
        "id": "S7wbbXxIiezI",
        "outputId": "7378bb4b-96f3-4c51-928e-6cd032da24e7"
      },
      "execution_count": 6,
      "outputs": [
        {
          "output_type": "execute_result",
          "data": {
            "text/plain": [
              "array([[ 0.3907549 , -0.92073158],\n",
              "       [ 1.13530267,  1.65493837],\n",
              "       [ 0.33213383,  1.5212699 ],\n",
              "       [ 1.39973846, -1.86599367]])"
            ]
          },
          "metadata": {},
          "execution_count": 6
        }
      ]
    },
    {
      "cell_type": "code",
      "source": [
        "# biases for 4 neurons (1 hidden layer)\n",
        "hid_b=np.random.randn(4)\n",
        "hid_b"
      ],
      "metadata": {
        "colab": {
          "base_uri": "https://localhost:8080/"
        },
        "id": "dAcL_Jl2i6wW",
        "outputId": "5518bda1-99e6-434e-a54c-e039f1da8ea9"
      },
      "execution_count": 9,
      "outputs": [
        {
          "output_type": "execute_result",
          "data": {
            "text/plain": [
              "array([-0.36591506, -0.98566998, -0.60585798, -0.35378892])"
            ]
          },
          "metadata": {},
          "execution_count": 9
        }
      ]
    },
    {
      "cell_type": "code",
      "source": [
        "# biases for 2 neurons (output layer)\n",
        "out_b=np.random.randn(2)\n",
        "out_b"
      ],
      "metadata": {
        "colab": {
          "base_uri": "https://localhost:8080/"
        },
        "id": "NBVYXYUWjkV4",
        "outputId": "40c647db-2fad-4def-9b60-712670ceeec8"
      },
      "execution_count": 10,
      "outputs": [
        {
          "output_type": "execute_result",
          "data": {
            "text/plain": [
              "array([0.3877826 , 0.64407887])"
            ]
          },
          "metadata": {},
          "execution_count": 10
        }
      ]
    },
    {
      "cell_type": "code",
      "source": [
        "# Activation function\n",
        "def relu(x):\n",
        "  return np.maximum(0, x)"
      ],
      "metadata": {
        "id": "8dmUMFtEkMC-"
      },
      "execution_count": 21,
      "outputs": []
    },
    {
      "cell_type": "code",
      "source": [
        "# input to hidden layer\n",
        "# X * W + hid_b\n",
        "in_to_hl=np.dot(X,W) + hid_b\n",
        "in_to_hl"
      ],
      "metadata": {
        "colab": {
          "base_uri": "https://localhost:8080/"
        },
        "id": "EscJ2G7rkmgm",
        "outputId": "d207386b-5fbe-44c3-aa88-f20d7996995b"
      },
      "execution_count": 13,
      "outputs": [
        {
          "output_type": "execute_result",
          "data": {
            "text/plain": [
              "array([-3.0663901 , -4.77391741, -3.40379002, -3.94866128])"
            ]
          },
          "metadata": {},
          "execution_count": 13
        }
      ]
    },
    {
      "cell_type": "code",
      "source": [
        "# now apply activation function\n",
        "fh=relu(in_to_hl)\n",
        "fh"
      ],
      "metadata": {
        "colab": {
          "base_uri": "https://localhost:8080/"
        },
        "id": "ytBuQJ22l4Dl",
        "outputId": "8d471b37-7c3c-4162-dd77-f90416adc1b1"
      },
      "execution_count": 24,
      "outputs": [
        {
          "output_type": "execute_result",
          "data": {
            "text/plain": [
              "array([0., 0., 0., 0.])"
            ]
          },
          "metadata": {},
          "execution_count": 24
        }
      ]
    },
    {
      "cell_type": "code",
      "source": [
        "# now fh to output\n",
        "# fh * V + out_b\n",
        "fo=np.dot(fh,V) + out_b\n",
        "fo"
      ],
      "metadata": {
        "colab": {
          "base_uri": "https://localhost:8080/"
        },
        "id": "CkXifeAImGlN",
        "outputId": "28ee13cb-4056-4237-c521-a329fb69bad2"
      },
      "execution_count": 25,
      "outputs": [
        {
          "output_type": "execute_result",
          "data": {
            "text/plain": [
              "array([0.3877826 , 0.64407887])"
            ]
          },
          "metadata": {},
          "execution_count": 25
        }
      ]
    },
    {
      "cell_type": "code",
      "source": [
        "def leaky_relu(x, alpha=0.01):\n",
        "    return np.where(x > 0, x, alpha * x)"
      ],
      "metadata": {
        "id": "1Ax6Hv9Vohh5"
      },
      "execution_count": 26,
      "outputs": []
    },
    {
      "cell_type": "code",
      "source": [
        "final_out=leaky_relu(fo)\n",
        "final_out"
      ],
      "metadata": {
        "colab": {
          "base_uri": "https://localhost:8080/"
        },
        "id": "cV1PFfe-o6UP",
        "outputId": "d30f292c-3d62-42df-c55e-700a158f3c74"
      },
      "execution_count": 28,
      "outputs": [
        {
          "output_type": "execute_result",
          "data": {
            "text/plain": [
              "array([0.3877826 , 0.64407887])"
            ]
          },
          "metadata": {},
          "execution_count": 28
        }
      ]
    },
    {
      "cell_type": "code",
      "source": [],
      "metadata": {
        "id": "0x-4v4ERo_4J"
      },
      "execution_count": null,
      "outputs": []
    }
  ]
}