{
 "cells": [
  {
   "cell_type": "markdown",
   "metadata": {},
   "source": [
    "# Question 1:\n",
    "\n",
    "Identify the number of records (rows) and columns and list the data types of each column."
   ]
  },
  {
   "cell_type": "code",
   "execution_count": 155,
   "metadata": {},
   "outputs": [],
   "source": [
    "import numpy as np\n",
    "import pandas as pd\n",
    "import matplotlib.pyplot as plt\n",
    "import seaborn as sns\n",
    "from sklearn.preprocessing import OneHotEncoder"
   ]
  },
  {
   "cell_type": "code",
   "execution_count": 139,
   "metadata": {},
   "outputs": [
    {
     "data": {
      "text/html": [
       "<div>\n",
       "<style scoped>\n",
       "    .dataframe tbody tr th:only-of-type {\n",
       "        vertical-align: middle;\n",
       "    }\n",
       "\n",
       "    .dataframe tbody tr th {\n",
       "        vertical-align: top;\n",
       "    }\n",
       "\n",
       "    .dataframe thead th {\n",
       "        text-align: right;\n",
       "    }\n",
       "</style>\n",
       "<table border=\"1\" class=\"dataframe\">\n",
       "  <thead>\n",
       "    <tr style=\"text-align: right;\">\n",
       "      <th></th>\n",
       "      <th>sepal.length</th>\n",
       "      <th>sepal.width</th>\n",
       "      <th>petal.length</th>\n",
       "      <th>petal.width</th>\n",
       "      <th>variety</th>\n",
       "    </tr>\n",
       "  </thead>\n",
       "  <tbody>\n",
       "    <tr>\n",
       "      <th>0</th>\n",
       "      <td>5.1</td>\n",
       "      <td>3.5</td>\n",
       "      <td>1.4</td>\n",
       "      <td>0.2</td>\n",
       "      <td>Setosa</td>\n",
       "    </tr>\n",
       "    <tr>\n",
       "      <th>1</th>\n",
       "      <td>4.9</td>\n",
       "      <td>3.0</td>\n",
       "      <td>1.4</td>\n",
       "      <td>0.2</td>\n",
       "      <td>Setosa</td>\n",
       "    </tr>\n",
       "    <tr>\n",
       "      <th>2</th>\n",
       "      <td>4.7</td>\n",
       "      <td>3.2</td>\n",
       "      <td>1.3</td>\n",
       "      <td>0.2</td>\n",
       "      <td>Setosa</td>\n",
       "    </tr>\n",
       "    <tr>\n",
       "      <th>3</th>\n",
       "      <td>4.6</td>\n",
       "      <td>3.1</td>\n",
       "      <td>1.5</td>\n",
       "      <td>0.2</td>\n",
       "      <td>Setosa</td>\n",
       "    </tr>\n",
       "    <tr>\n",
       "      <th>4</th>\n",
       "      <td>5.0</td>\n",
       "      <td>3.6</td>\n",
       "      <td>1.4</td>\n",
       "      <td>0.2</td>\n",
       "      <td>Setosa</td>\n",
       "    </tr>\n",
       "  </tbody>\n",
       "</table>\n",
       "</div>"
      ],
      "text/plain": [
       "   sepal.length  sepal.width  petal.length  petal.width variety\n",
       "0           5.1          3.5           1.4          0.2  Setosa\n",
       "1           4.9          3.0           1.4          0.2  Setosa\n",
       "2           4.7          3.2           1.3          0.2  Setosa\n",
       "3           4.6          3.1           1.5          0.2  Setosa\n",
       "4           5.0          3.6           1.4          0.2  Setosa"
      ]
     },
     "execution_count": 139,
     "metadata": {},
     "output_type": "execute_result"
    }
   ],
   "source": [
    "df=pd.read_csv('iris.csv')\n",
    "df.head()"
   ]
  },
  {
   "cell_type": "code",
   "execution_count": 140,
   "metadata": {},
   "outputs": [
    {
     "data": {
      "text/plain": [
       "(150, 5)"
      ]
     },
     "execution_count": 140,
     "metadata": {},
     "output_type": "execute_result"
    }
   ],
   "source": [
    "df.shape"
   ]
  },
  {
   "cell_type": "markdown",
   "metadata": {},
   "source": [
    "So there are 150 rows and 5 columns"
   ]
  },
  {
   "cell_type": "code",
   "execution_count": 141,
   "metadata": {},
   "outputs": [
    {
     "name": "stdout",
     "output_type": "stream",
     "text": [
      "<class 'pandas.core.frame.DataFrame'>\n",
      "RangeIndex: 150 entries, 0 to 149\n",
      "Data columns (total 5 columns):\n",
      " #   Column        Non-Null Count  Dtype  \n",
      "---  ------        --------------  -----  \n",
      " 0   sepal.length  150 non-null    float64\n",
      " 1   sepal.width   150 non-null    float64\n",
      " 2   petal.length  150 non-null    float64\n",
      " 3   petal.width   150 non-null    float64\n",
      " 4   variety       150 non-null    object \n",
      "dtypes: float64(4), object(1)\n",
      "memory usage: 6.0+ KB\n"
     ]
    }
   ],
   "source": [
    "df.info()"
   ]
  },
  {
   "cell_type": "markdown",
   "metadata": {},
   "source": [
    "# Questions 2:\n",
    "\n",
    "Get the descriptive analysis of the dataset on the numerical columns.\n",
    "\n",
    "Write a few sentences about analysis of the dataset.\n",
    "\n"
   ]
  },
  {
   "cell_type": "markdown",
   "metadata": {},
   "source": [
    "<b>Answer:</b>\n",
    "So here the iris.csv data contains 5 columns and 150 records.\n",
    "it has 4 columns of float64 data type `['sepal.length','sepal.width','petal.length','petal.width']` and one column of data type object `['variety']`\n",
    "<br>\n",
    "Here there are 3 categories in `variety` column and those categories are considered as results based on first 4 columns and those 3 categories are `['Setosa','Versicolor','Virginica']`"
   ]
  },
  {
   "cell_type": "code",
   "execution_count": 142,
   "metadata": {},
   "outputs": [
    {
     "data": {
      "text/html": [
       "<div>\n",
       "<style scoped>\n",
       "    .dataframe tbody tr th:only-of-type {\n",
       "        vertical-align: middle;\n",
       "    }\n",
       "\n",
       "    .dataframe tbody tr th {\n",
       "        vertical-align: top;\n",
       "    }\n",
       "\n",
       "    .dataframe thead th {\n",
       "        text-align: right;\n",
       "    }\n",
       "</style>\n",
       "<table border=\"1\" class=\"dataframe\">\n",
       "  <thead>\n",
       "    <tr style=\"text-align: right;\">\n",
       "      <th></th>\n",
       "      <th>sepal.length</th>\n",
       "      <th>sepal.width</th>\n",
       "      <th>petal.length</th>\n",
       "      <th>petal.width</th>\n",
       "    </tr>\n",
       "  </thead>\n",
       "  <tbody>\n",
       "    <tr>\n",
       "      <th>count</th>\n",
       "      <td>150.000000</td>\n",
       "      <td>150.000000</td>\n",
       "      <td>150.000000</td>\n",
       "      <td>150.000000</td>\n",
       "    </tr>\n",
       "    <tr>\n",
       "      <th>mean</th>\n",
       "      <td>5.843333</td>\n",
       "      <td>3.057333</td>\n",
       "      <td>3.758000</td>\n",
       "      <td>1.199333</td>\n",
       "    </tr>\n",
       "    <tr>\n",
       "      <th>std</th>\n",
       "      <td>0.828066</td>\n",
       "      <td>0.435866</td>\n",
       "      <td>1.765298</td>\n",
       "      <td>0.762238</td>\n",
       "    </tr>\n",
       "    <tr>\n",
       "      <th>min</th>\n",
       "      <td>4.300000</td>\n",
       "      <td>2.000000</td>\n",
       "      <td>1.000000</td>\n",
       "      <td>0.100000</td>\n",
       "    </tr>\n",
       "    <tr>\n",
       "      <th>25%</th>\n",
       "      <td>5.100000</td>\n",
       "      <td>2.800000</td>\n",
       "      <td>1.600000</td>\n",
       "      <td>0.300000</td>\n",
       "    </tr>\n",
       "    <tr>\n",
       "      <th>50%</th>\n",
       "      <td>5.800000</td>\n",
       "      <td>3.000000</td>\n",
       "      <td>4.350000</td>\n",
       "      <td>1.300000</td>\n",
       "    </tr>\n",
       "    <tr>\n",
       "      <th>75%</th>\n",
       "      <td>6.400000</td>\n",
       "      <td>3.300000</td>\n",
       "      <td>5.100000</td>\n",
       "      <td>1.800000</td>\n",
       "    </tr>\n",
       "    <tr>\n",
       "      <th>max</th>\n",
       "      <td>7.900000</td>\n",
       "      <td>4.400000</td>\n",
       "      <td>6.900000</td>\n",
       "      <td>2.500000</td>\n",
       "    </tr>\n",
       "  </tbody>\n",
       "</table>\n",
       "</div>"
      ],
      "text/plain": [
       "       sepal.length  sepal.width  petal.length  petal.width\n",
       "count    150.000000   150.000000    150.000000   150.000000\n",
       "mean       5.843333     3.057333      3.758000     1.199333\n",
       "std        0.828066     0.435866      1.765298     0.762238\n",
       "min        4.300000     2.000000      1.000000     0.100000\n",
       "25%        5.100000     2.800000      1.600000     0.300000\n",
       "50%        5.800000     3.000000      4.350000     1.300000\n",
       "75%        6.400000     3.300000      5.100000     1.800000\n",
       "max        7.900000     4.400000      6.900000     2.500000"
      ]
     },
     "execution_count": 142,
     "metadata": {},
     "output_type": "execute_result"
    }
   ],
   "source": [
    "df.describe()\n"
   ]
  },
  {
   "cell_type": "markdown",
   "metadata": {},
   "source": [
    "`sepal.length` has a mean of 5.84, std of 0.82 and min value of `sepal.length` is 4.3 , max value of 7.9 .\n",
    "`sepal.width` has a mean of 3.05, std of 0.43 and min value of `sepal.width` is 2.0 , max value of 4.4 .\n",
    "`petal.length` has a mean of 3.75, std of 1.76 and min value of `petal.length` is 1.0 , max value of 6.9 .\n",
    "`petal.width` has a mean of 1.19, std of 0.76 and min value of `petal.width` is 0.1 , max value of 2.5 ."
   ]
  },
  {
   "cell_type": "markdown",
   "metadata": {},
   "source": [
    "# Questions 3: \n",
    "\n",
    "Plot the distributions of “Sepal Length”, and “Petal Length”."
   ]
  },
  {
   "cell_type": "code",
   "execution_count": 143,
   "metadata": {},
   "outputs": [
    {
     "data": {
      "image/png": "[encoded data removed]",
      "text/plain": [
       "<Figure size 1200x600 with 2 Axes>"
      ]
     },
     "metadata": {},
     "output_type": "display_data"
    }
   ],
   "source": [
    "plt.figure(figsize=(12, 6))\n",
    "\n",
    "plt.subplot(1, 2, 1)\n",
    "sns.histplot(df['sepal.length'], kde=True, bins=30, color='blue')\n",
    "plt.title('Distribution of Sepal Length')\n",
    "plt.xlabel('Sepal Length (cm)')\n",
    "plt.ylabel('Frequency')\n",
    "\n",
    "# Plot the distribution of Petal Length\n",
    "plt.subplot(1, 2, 2)\n",
    "sns.histplot(df['petal.length'], kde=True, bins=30, color='green')\n",
    "plt.title('Distribution of Petal Length')\n",
    "plt.xlabel('Petal Length (cm)')\n",
    "plt.ylabel('Frequency')\n",
    "\n",
    "plt.show()"
   ]
  },
  {
   "cell_type": "markdown",
   "metadata": {},
   "source": [
    "# Questions 4: \n",
    "\n",
    "Visualize the outliers in plots for numerical fields and remove the outliers. \n",
    "\n"
   ]
  },
  {
   "cell_type": "code",
   "execution_count": 144,
   "metadata": {},
   "outputs": [
    {
     "data": {
      "image/png": "[encoded data removed]",
      "text/plain": [
       "<Figure size 1000x600 with 1 Axes>"
      ]
     },
     "metadata": {},
     "output_type": "display_data"
    }
   ],
   "source": [
    "data_to_plot = [df['sepal.length'], df['sepal.width'], df['petal.length'], df['petal.width']]\n",
    "plt.figure(figsize=(10, 6))\n",
    "plt.boxplot(data_to_plot, patch_artist=True, labels=['Sepal Length', 'Sepal Width', 'Petal Length', 'Petal Width'])\n",
    "plt.title('Boxplot of Iris Dataset Measurements')\n",
    "plt.xlabel('Measurement')\n",
    "plt.ylabel('Value')\n",
    "plt.show()"
   ]
  },
  {
   "cell_type": "markdown",
   "metadata": {},
   "source": [
    "so here we have outliers for sepal.width "
   ]
  },
  {
   "cell_type": "code",
   "execution_count": 145,
   "metadata": {},
   "outputs": [
    {
     "data": {
      "text/plain": [
       "(2.8, 3.0, 3.3)"
      ]
     },
     "execution_count": 145,
     "metadata": {},
     "output_type": "execute_result"
    }
   ],
   "source": [
    "q1=np.quantile(df['sepal.width'],0.25)\n",
    "q2=np.quantile(df['sepal.width'],0.5)\n",
    "q3=np.quantile(df['sepal.width'],0.75)\n",
    "q1,q2,q3"
   ]
  },
  {
   "cell_type": "code",
   "execution_count": 146,
   "metadata": {},
   "outputs": [
    {
     "name": "stdout",
     "output_type": "stream",
     "text": [
      "Q1: 2.8, Q3: 3.3, IQR: 0.5\n",
      "Min: 2.05, Max: 4.05\n"
     ]
    }
   ],
   "source": [
    "iqr = q3 - q1\n",
    "print(f\"Q1: {q1}, Q3: {q3}, IQR: {iqr}\")\n",
    "\n",
    "min = q1 - 1.5 * iqr\n",
    "max = q3 + 1.5 * iqr\n",
    "print(f\"Min: {min}, Max: {max}\")"
   ]
  },
  {
   "cell_type": "code",
   "execution_count": 147,
   "metadata": {},
   "outputs": [
    {
     "name": "stderr",
     "output_type": "stream",
     "text": [
      "C:\\Users\\lenovo\\AppData\\Local\\Temp\\ipykernel_21680\\3502176067.py:1: SettingWithCopyWarning: \n",
      "A value is trying to be set on a copy of a slice from a DataFrame\n",
      "\n",
      "See the caveats in the documentation: https://pandas.pydata.org/pandas-docs/stable/user_guide/indexing.html#returning-a-view-versus-a-copy\n",
      "  df['sepal.width'][(df['sepal.width'] < min) | (df['sepal.width'] > max)] =np.nan\n"
     ]
    }
   ],
   "source": [
    "df['sepal.width'][(df['sepal.width'] < min) | (df['sepal.width'] > max)] =np.nan"
   ]
  },
  {
   "cell_type": "code",
   "execution_count": 149,
   "metadata": {},
   "outputs": [],
   "source": [
    "df['sepal.width'] = df['sepal.width'].ffill().add(df['sepal.width'].bfill()).div(2)\n"
   ]
  },
  {
   "cell_type": "code",
   "execution_count": 151,
   "metadata": {},
   "outputs": [
    {
     "data": {
      "image/png": "[encoded data removed]",
      "text/plain": [
       "<Figure size 1000x600 with 1 Axes>"
      ]
     },
     "metadata": {},
     "output_type": "display_data"
    }
   ],
   "source": [
    "data_to_plot = [df['sepal.length'], df['sepal.width'], df['petal.length'], df['petal.width']]\n",
    "plt.figure(figsize=(10, 6))\n",
    "plt.boxplot(data_to_plot, patch_artist=True, labels=['Sepal Length', 'Sepal Width', 'Petal Length', 'Petal Width'])\n",
    "plt.title('Boxplot of Iris Dataset Measurements')\n",
    "plt.xlabel('Measurement')\n",
    "plt.ylabel('Value')\n",
    "plt.show()"
   ]
  },
  {
   "cell_type": "markdown",
   "metadata": {},
   "source": [
    "Here i just dropped the outliers and then i have forward filled it and then added with backward fill and then i have dived it \n",
    "so the outliers are gone."
   ]
  },
  {
   "cell_type": "markdown",
   "metadata": {},
   "source": [
    "# Questions 5:\n",
    "\n",
    "Check for the missing data and handle them. You must also explain your logic on how to handle the missing values\n",
    "\n"
   ]
  },
  {
   "cell_type": "code",
   "execution_count": 154,
   "metadata": {},
   "outputs": [
    {
     "data": {
      "text/plain": [
       "sepal.length    0\n",
       "sepal.width     0\n",
       "petal.length    0\n",
       "petal.width     0\n",
       "variety         0\n",
       "dtype: int64"
      ]
     },
     "execution_count": 154,
     "metadata": {},
     "output_type": "execute_result"
    }
   ],
   "source": [
    "df.isna().sum()"
   ]
  },
  {
   "cell_type": "markdown",
   "metadata": {},
   "source": [
    "Here we dont have any missing values, in the previous question i have dropped the outliers so that can be the missing values  later i have took the mean to fill that missing values."
   ]
  },
  {
   "cell_type": "markdown",
   "metadata": {},
   "source": [
    "# Questions 6: \n",
    "\n",
    "Identify the categorical data and encode them properly for machine learning\n",
    "\n"
   ]
  },
  {
   "cell_type": "code",
   "execution_count": 160,
   "metadata": {},
   "outputs": [],
   "source": [
    "categorical_features=['variety']\n",
    "encoder=encoder = OneHotEncoder(handle_unknown=\"ignore\", sparse_output=False)\n",
    "matrix=encoder.fit_transform(df[categorical_features])\n",
    "encoder_features_names=encoder.get_feature_names_out()\n",
    "df_encoded=pd.DataFrame(data=matrix,columns=encoder_features_names)\n",
    "df=pd.merge(df,df_encoded, left_index=True, right_index=True)\n",
    "df.drop(columns=categorical_features, inplace=True)\n",
    "\n"
   ]
  },
  {
   "cell_type": "code",
   "execution_count": 162,
   "metadata": {},
   "outputs": [
    {
     "data": {
      "text/html": [
       "<div>\n",
       "<style scoped>\n",
       "    .dataframe tbody tr th:only-of-type {\n",
       "        vertical-align: middle;\n",
       "    }\n",
       "\n",
       "    .dataframe tbody tr th {\n",
       "        vertical-align: top;\n",
       "    }\n",
       "\n",
       "    .dataframe thead th {\n",
       "        text-align: right;\n",
       "    }\n",
       "</style>\n",
       "<table border=\"1\" class=\"dataframe\">\n",
       "  <thead>\n",
       "    <tr style=\"text-align: right;\">\n",
       "      <th></th>\n",
       "      <th>sepal.length</th>\n",
       "      <th>sepal.width</th>\n",
       "      <th>petal.length</th>\n",
       "      <th>petal.width</th>\n",
       "      <th>variety_Setosa</th>\n",
       "      <th>variety_Versicolor</th>\n",
       "      <th>variety_Virginica</th>\n",
       "    </tr>\n",
       "  </thead>\n",
       "  <tbody>\n",
       "    <tr>\n",
       "      <th>0</th>\n",
       "      <td>5.1</td>\n",
       "      <td>3.5</td>\n",
       "      <td>1.4</td>\n",
       "      <td>0.2</td>\n",
       "      <td>1.0</td>\n",
       "      <td>0.0</td>\n",
       "      <td>0.0</td>\n",
       "    </tr>\n",
       "    <tr>\n",
       "      <th>1</th>\n",
       "      <td>4.9</td>\n",
       "      <td>3.0</td>\n",
       "      <td>1.4</td>\n",
       "      <td>0.2</td>\n",
       "      <td>1.0</td>\n",
       "      <td>0.0</td>\n",
       "      <td>0.0</td>\n",
       "    </tr>\n",
       "    <tr>\n",
       "      <th>2</th>\n",
       "      <td>4.7</td>\n",
       "      <td>3.2</td>\n",
       "      <td>1.3</td>\n",
       "      <td>0.2</td>\n",
       "      <td>1.0</td>\n",
       "      <td>0.0</td>\n",
       "      <td>0.0</td>\n",
       "    </tr>\n",
       "    <tr>\n",
       "      <th>3</th>\n",
       "      <td>4.6</td>\n",
       "      <td>3.1</td>\n",
       "      <td>1.5</td>\n",
       "      <td>0.2</td>\n",
       "      <td>1.0</td>\n",
       "      <td>0.0</td>\n",
       "      <td>0.0</td>\n",
       "    </tr>\n",
       "    <tr>\n",
       "      <th>4</th>\n",
       "      <td>5.0</td>\n",
       "      <td>3.6</td>\n",
       "      <td>1.4</td>\n",
       "      <td>0.2</td>\n",
       "      <td>1.0</td>\n",
       "      <td>0.0</td>\n",
       "      <td>0.0</td>\n",
       "    </tr>\n",
       "  </tbody>\n",
       "</table>\n",
       "</div>"
      ],
      "text/plain": [
       "   sepal.length  sepal.width  petal.length  petal.width  variety_Setosa  \\\n",
       "0           5.1          3.5           1.4          0.2             1.0   \n",
       "1           4.9          3.0           1.4          0.2             1.0   \n",
       "2           4.7          3.2           1.3          0.2             1.0   \n",
       "3           4.6          3.1           1.5          0.2             1.0   \n",
       "4           5.0          3.6           1.4          0.2             1.0   \n",
       "\n",
       "   variety_Versicolor  variety_Virginica  \n",
       "0                 0.0                0.0  \n",
       "1                 0.0                0.0  \n",
       "2                 0.0                0.0  \n",
       "3                 0.0                0.0  \n",
       "4                 0.0                0.0  "
      ]
     },
     "execution_count": 162,
     "metadata": {},
     "output_type": "execute_result"
    }
   ],
   "source": [
    "df.head()"
   ]
  },
  {
   "cell_type": "markdown",
   "metadata": {},
   "source": [
    "`variety` is the only column which has just 3 types of categories `setosa`, `versicolor`, `virginica` and can be encoded easily with binary"
   ]
  },
  {
   "cell_type": "markdown",
   "metadata": {},
   "source": [
    "# Questions 7:\n",
    "\n",
    "Calculate the Pearson correlation among all the numeric fields. Then apply heatmap coloring on the resulting table to identify high and low correlations using colors."
   ]
  },
  {
   "cell_type": "code",
   "execution_count": 164,
   "metadata": {},
   "outputs": [
    {
     "data": {
      "text/html": [
       "<style type=\"text/css\">\n",
       "#T_50354_row0_col0, #T_50354_row1_col1, #T_50354_row2_col2, #T_50354_row3_col3, #T_50354_row4_col4, #T_50354_row5_col5, #T_50354_row6_col6 {\n",
       "  background-color: #006837;\n",
       "  color: #f1f1f1;\n",
       "}\n",
       "#T_50354_row0_col1, #T_50354_row1_col0 {\n",
       "  background-color: #f2faae;\n",
       "  color: #000000;\n",
       "}\n",
       "#T_50354_row0_col2, #T_50354_row2_col0 {\n",
       "  background-color: #3faa59;\n",
       "  color: #f1f1f1;\n",
       "}\n",
       "#T_50354_row0_col3, #T_50354_row3_col0 {\n",
       "  background-color: #57b65f;\n",
       "  color: #f1f1f1;\n",
       "}\n",
       "#T_50354_row0_col4, #T_50354_row4_col0 {\n",
       "  background-color: #3ca959;\n",
       "  color: #f1f1f1;\n",
       "}\n",
       "#T_50354_row0_col5, #T_50354_row5_col0 {\n",
       "  background-color: #e0f295;\n",
       "  color: #000000;\n",
       "}\n",
       "#T_50354_row0_col6, #T_50354_row6_col0 {\n",
       "  background-color: #75c465;\n",
       "  color: #000000;\n",
       "}\n",
       "#T_50354_row1_col2, #T_50354_row2_col1 {\n",
       "  background-color: #e2f397;\n",
       "  color: #000000;\n",
       "}\n",
       "#T_50354_row1_col3, #T_50354_row3_col1 {\n",
       "  background-color: #d7ee8a;\n",
       "  color: #000000;\n",
       "}\n",
       "#T_50354_row1_col4, #T_50354_row4_col1 {\n",
       "  background-color: #b7e075;\n",
       "  color: #000000;\n",
       "}\n",
       "#T_50354_row1_col5, #T_50354_row5_col1 {\n",
       "  background-color: #c5e67e;\n",
       "  color: #000000;\n",
       "}\n",
       "#T_50354_row1_col6, #T_50354_row6_col1 {\n",
       "  background-color: #f4fab0;\n",
       "  color: #000000;\n",
       "}\n",
       "#T_50354_row2_col3, #T_50354_row3_col2 {\n",
       "  background-color: #108647;\n",
       "  color: #f1f1f1;\n",
       "}\n",
       "#T_50354_row2_col4, #T_50354_row4_col2 {\n",
       "  background-color: #279f53;\n",
       "  color: #f1f1f1;\n",
       "}\n",
       "#T_50354_row2_col5, #T_50354_row5_col2 {\n",
       "  background-color: #fffbb8;\n",
       "  color: #000000;\n",
       "}\n",
       "#T_50354_row2_col6, #T_50354_row6_col2 {\n",
       "  background-color: #1b9950;\n",
       "  color: #f1f1f1;\n",
       "}\n",
       "#T_50354_row3_col4, #T_50354_row4_col3 {\n",
       "  background-color: #199750;\n",
       "  color: #f1f1f1;\n",
       "}\n",
       "#T_50354_row3_col5, #T_50354_row5_col3 {\n",
       "  background-color: #fbfdba;\n",
       "  color: #000000;\n",
       "}\n",
       "#T_50354_row3_col6, #T_50354_row6_col3 {\n",
       "  background-color: #219c52;\n",
       "  color: #f1f1f1;\n",
       "}\n",
       "#T_50354_row4_col5, #T_50354_row5_col4 {\n",
       "  background-color: #87cb67;\n",
       "  color: #000000;\n",
       "}\n",
       "#T_50354_row4_col6, #T_50354_row6_col4 {\n",
       "  background-color: #84ca66;\n",
       "  color: #000000;\n",
       "}\n",
       "#T_50354_row5_col6, #T_50354_row6_col5 {\n",
       "  background-color: #f98e52;\n",
       "  color: #f1f1f1;\n",
       "}\n",
       "</style>\n",
       "<table id=\"T_50354\">\n",
       "  <thead>\n",
       "    <tr>\n",
       "      <th class=\"blank level0\" >&nbsp;</th>\n",
       "      <th id=\"T_50354_level0_col0\" class=\"col_heading level0 col0\" >sepal.length</th>\n",
       "      <th id=\"T_50354_level0_col1\" class=\"col_heading level0 col1\" >sepal.width</th>\n",
       "      <th id=\"T_50354_level0_col2\" class=\"col_heading level0 col2\" >petal.length</th>\n",
       "      <th id=\"T_50354_level0_col3\" class=\"col_heading level0 col3\" >petal.width</th>\n",
       "      <th id=\"T_50354_level0_col4\" class=\"col_heading level0 col4\" >variety_Setosa</th>\n",
       "      <th id=\"T_50354_level0_col5\" class=\"col_heading level0 col5\" >variety_Versicolor</th>\n",
       "      <th id=\"T_50354_level0_col6\" class=\"col_heading level0 col6\" >variety_Virginica</th>\n",
       "    </tr>\n",
       "  </thead>\n",
       "  <tbody>\n",
       "    <tr>\n",
       "      <th id=\"T_50354_level0_row0\" class=\"row_heading level0 row0\" >sepal.length</th>\n",
       "      <td id=\"T_50354_row0_col0\" class=\"data row0 col0\" >1.000000</td>\n",
       "      <td id=\"T_50354_row0_col1\" class=\"data row0 col1\" >0.064169</td>\n",
       "      <td id=\"T_50354_row0_col2\" class=\"data row0 col2\" >0.696007</td>\n",
       "      <td id=\"T_50354_row0_col3\" class=\"data row0 col3\" >0.637803</td>\n",
       "      <td id=\"T_50354_row0_col4\" class=\"data row0 col4\" >0.709993</td>\n",
       "      <td id=\"T_50354_row0_col5\" class=\"data row0 col5\" >0.162242</td>\n",
       "      <td id=\"T_50354_row0_col6\" class=\"data row0 col6\" >0.547752</td>\n",
       "    </tr>\n",
       "    <tr>\n",
       "      <th id=\"T_50354_level0_row1\" class=\"row_heading level0 row1\" >sepal.width</th>\n",
       "      <td id=\"T_50354_row1_col0\" class=\"data row1 col0\" >0.064169</td>\n",
       "      <td id=\"T_50354_row1_col1\" class=\"data row1 col1\" >1.000000</td>\n",
       "      <td id=\"T_50354_row1_col2\" class=\"data row1 col2\" >0.148826</td>\n",
       "      <td id=\"T_50354_row1_col3\" class=\"data row1 col3\" >0.208337</td>\n",
       "      <td id=\"T_50354_row1_col4\" class=\"data row1 col4\" >0.333664</td>\n",
       "      <td id=\"T_50354_row1_col5\" class=\"data row1 col5\" >0.274007</td>\n",
       "      <td id=\"T_50354_row1_col6\" class=\"data row1 col6\" >0.059657</td>\n",
       "    </tr>\n",
       "    <tr>\n",
       "      <th id=\"T_50354_level0_row2\" class=\"row_heading level0 row2\" >petal.length</th>\n",
       "      <td id=\"T_50354_row2_col0\" class=\"data row2 col0\" >0.696007</td>\n",
       "      <td id=\"T_50354_row2_col1\" class=\"data row2 col1\" >0.148826</td>\n",
       "      <td id=\"T_50354_row2_col2\" class=\"data row2 col2\" >1.000000</td>\n",
       "      <td id=\"T_50354_row2_col3\" class=\"data row2 col3\" >0.873059</td>\n",
       "      <td id=\"T_50354_row2_col4\" class=\"data row2 col4\" >0.764150</td>\n",
       "      <td id=\"T_50354_row2_col5\" class=\"data row2 col5\" >-0.025335</td>\n",
       "      <td id=\"T_50354_row2_col6\" class=\"data row2 col6\" >0.789485</td>\n",
       "    </tr>\n",
       "    <tr>\n",
       "      <th id=\"T_50354_level0_row3\" class=\"row_heading level0 row3\" >petal.width</th>\n",
       "      <td id=\"T_50354_row3_col0\" class=\"data row3 col0\" >0.637803</td>\n",
       "      <td id=\"T_50354_row3_col1\" class=\"data row3 col1\" >0.208337</td>\n",
       "      <td id=\"T_50354_row3_col2\" class=\"data row3 col2\" >0.873059</td>\n",
       "      <td id=\"T_50354_row3_col3\" class=\"data row3 col3\" >1.000000</td>\n",
       "      <td id=\"T_50354_row3_col4\" class=\"data row3 col4\" >0.800876</td>\n",
       "      <td id=\"T_50354_row3_col5\" class=\"data row3 col5\" >0.021683</td>\n",
       "      <td id=\"T_50354_row3_col6\" class=\"data row3 col6\" >0.779192</td>\n",
       "    </tr>\n",
       "    <tr>\n",
       "      <th id=\"T_50354_level0_row4\" class=\"row_heading level0 row4\" >variety_Setosa</th>\n",
       "      <td id=\"T_50354_row4_col0\" class=\"data row4 col0\" >0.709993</td>\n",
       "      <td id=\"T_50354_row4_col1\" class=\"data row4 col1\" >0.333664</td>\n",
       "      <td id=\"T_50354_row4_col2\" class=\"data row4 col2\" >0.764150</td>\n",
       "      <td id=\"T_50354_row4_col3\" class=\"data row4 col3\" >0.800876</td>\n",
       "      <td id=\"T_50354_row4_col4\" class=\"data row4 col4\" >1.000000</td>\n",
       "      <td id=\"T_50354_row4_col5\" class=\"data row4 col5\" >0.500000</td>\n",
       "      <td id=\"T_50354_row4_col6\" class=\"data row4 col6\" >0.500000</td>\n",
       "    </tr>\n",
       "    <tr>\n",
       "      <th id=\"T_50354_level0_row5\" class=\"row_heading level0 row5\" >variety_Versicolor</th>\n",
       "      <td id=\"T_50354_row5_col0\" class=\"data row5 col0\" >0.162242</td>\n",
       "      <td id=\"T_50354_row5_col1\" class=\"data row5 col1\" >0.274007</td>\n",
       "      <td id=\"T_50354_row5_col2\" class=\"data row5 col2\" >-0.025335</td>\n",
       "      <td id=\"T_50354_row5_col3\" class=\"data row5 col3\" >0.021683</td>\n",
       "      <td id=\"T_50354_row5_col4\" class=\"data row5 col4\" >0.500000</td>\n",
       "      <td id=\"T_50354_row5_col5\" class=\"data row5 col5\" >1.000000</td>\n",
       "      <td id=\"T_50354_row5_col6\" class=\"data row5 col6\" >-0.500000</td>\n",
       "    </tr>\n",
       "    <tr>\n",
       "      <th id=\"T_50354_level0_row6\" class=\"row_heading level0 row6\" >variety_Virginica</th>\n",
       "      <td id=\"T_50354_row6_col0\" class=\"data row6 col0\" >0.547752</td>\n",
       "      <td id=\"T_50354_row6_col1\" class=\"data row6 col1\" >0.059657</td>\n",
       "      <td id=\"T_50354_row6_col2\" class=\"data row6 col2\" >0.789485</td>\n",
       "      <td id=\"T_50354_row6_col3\" class=\"data row6 col3\" >0.779192</td>\n",
       "      <td id=\"T_50354_row6_col4\" class=\"data row6 col4\" >0.500000</td>\n",
       "      <td id=\"T_50354_row6_col5\" class=\"data row6 col5\" >-0.500000</td>\n",
       "      <td id=\"T_50354_row6_col6\" class=\"data row6 col6\" >1.000000</td>\n",
       "    </tr>\n",
       "  </tbody>\n",
       "</table>\n"
      ],
      "text/plain": [
       "<pandas.io.formats.style.Styler at 0x2109aca2ed0>"
      ]
     },
     "execution_count": 164,
     "metadata": {},
     "output_type": "execute_result"
    }
   ],
   "source": [
    "df.apply(lambda x: pd.factorize(x)[0]).corr(method=\"pearson\").style.background_gradient(cmap=\"RdYlGn\", vmax=1, vmin=-1)"
   ]
  },
  {
   "cell_type": "markdown",
   "metadata": {},
   "source": [
    "Here we can see that highest and lowest correleations "
   ]
  }
 ],
 "metadata": {
  "kernelspec": {
   "display_name": "Python 3",
   "language": "python",
   "name": "python3"
  },
  "language_info": {
   "codemirror_mode": {
    "name": "ipython",
    "version": 3
   },
   "file_extension": ".py",
   "mimetype": "text/x-python",
   "name": "python",
   "nbconvert_exporter": "python",
   "pygments_lexer": "ipython3",
   "version": "3.11.5"
  }
 },
 "nbformat": 4,
 "nbformat_minor": 2
}
